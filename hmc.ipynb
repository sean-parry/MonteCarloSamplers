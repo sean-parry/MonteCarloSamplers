{
 "cells": [
  {
   "cell_type": "markdown",
   "metadata": {},
   "source": [
    "# HMC\n",
    "\n",
    "this looks useful https://bjlkeng.io/posts/hamiltonian-monte-carlo/\n",
    "\n",
    "https://faculty.washington.edu/yenchic/19A_stat535/Lec9_HMC.pdf\n",
    "\n",
    "https://gregorygundersen.com/blog/2020/07/05/hmc/\n"
   ]
  },
  {
   "cell_type": "markdown",
   "metadata": {},
   "source": [
    "![images](images/hmc1Avarsi.jpg)\n",
    "![images](images/hmc2Avarsi.jpg)"
   ]
  },
  {
   "cell_type": "code",
   "execution_count": 1,
   "metadata": {},
   "outputs": [],
   "source": [
    "%%capture\n",
    "%pip install numpy\n",
    "%pip install matplotlib\n",
    "%pip install scipy"
   ]
  },
  {
   "cell_type": "markdown",
   "metadata": {},
   "source": [
    "integration time - decided by type of sampler:\n",
    "* nuts dynamically determines integration time\n",
    "* hmc satatically determines integration time"
   ]
  },
  {
   "cell_type": "code",
   "execution_count": 1,
   "metadata": {},
   "outputs": [
    {
     "name": "stdout",
     "output_type": "stream",
     "text": [
      "4.981186718527737\n"
     ]
    },
    {
     "data": {
      "image/png": "[encoded data removed]",
      "text/plain": [
       "<Figure size 640x480 with 1 Axes>"
      ]
     },
     "metadata": {},
     "output_type": "display_data"
    }
   ],
   "source": [
    "import scipy\n",
    "import numpy as np\n",
    "import matplotlib.pyplot as plt\n",
    "def target(x,mu = 5 ,s_d = 1):\n",
    "    return scipy.stats.norm.pdf(x,loc=mu,scale=s_d)\n",
    "\n",
    "def target_log(x,mu = 5 ,s_d = 1):\n",
    "    return scipy.stats.norm.logpdf(x,loc=mu,scale=s_d)\n",
    "\n",
    "class HMC():\n",
    "    def __init__(self,n,P,Plog,n_leapfrog_iters, leapfrog_step=0.1):\n",
    "        self.X = [np.random.randn(1)[0]]\n",
    "        self.n_iterations = n\n",
    "        # for higher dims M would be a diag matrix\n",
    "        # possibly identitiy\n",
    "        self.M = 1\n",
    "        self.P = P\n",
    "        self.Plog = Plog\n",
    "        self.L = n_leapfrog_iters\n",
    "        self.step_size = leapfrog_step\n",
    "        return\n",
    "    \n",
    "    def leapfrog(self, v):\n",
    "        d = -1\n",
    "        x_leapfrog = [self.X[-1]]\n",
    "        v_leapfrog = [v]\n",
    "        for k in range(self.L):\n",
    "            # 1e-8 is the step size think h tends to infinity\n",
    "            # in the proof for a derivative being defined \n",
    "            # the way that is is\n",
    "            Ak = scipy.optimize.approx_fprime(\n",
    "                x_leapfrog[-1], self.Plog, 1e-8)[0]\n",
    "            v_leapfrog.append(v_leapfrog[-1]+self.step_size*Ak)\n",
    "            x_leapfrog.append(x_leapfrog[-1]+self.step_size*v_leapfrog[-1]*d)\n",
    "        return x_leapfrog[-1], v_leapfrog[-1]\n",
    "\n",
    "    def run_hmc(self):\n",
    "        for _ in range(self.n_iterations):\n",
    "            v = np.random.randn(1)[0]\n",
    "            # U = (v @ M @ v.t) / 2 # for non scalar\n",
    "            U = (v**2) * self.M + self.P(self.X[-1])\n",
    "            x_star, v_star = self.leapfrog(v)\n",
    "            U_star = (v_star**2) * self.M + self.P(x_star)\n",
    "            a = np.exp(U_star-U)\n",
    "            unif_val = np.random.rand(1)[0]\n",
    "            if a < unif_val:\n",
    "                self.X.append(x_star)\n",
    "            else:\n",
    "                self.X.append(self.X[-1])\n",
    "        return\n",
    "\n",
    "    def test(self):\n",
    "        v = np.random.randn(1)[0]\n",
    "        # U = (v @ M @ v.t) / 2 # for non scalar\n",
    "        U = (v**2) * self.M + self.P(self.X[-1])\n",
    "        x_star, v_star = self.leapfrog(v)\n",
    "        U_star = (v_star**2) * self.M + self.P(x_star)\n",
    "        a = np.exp(U_star-U)\n",
    "        unif_val = np.random.rand(1)[0]\n",
    "        if a < unif_val:\n",
    "            self.X.append(x_star)\n",
    "        else:\n",
    "            self.X.append(self.X[-1])\n",
    "        return\n",
    "\n",
    "def plotting_funciton(X):\n",
    "    t = np.arange(0,len(X),1)\n",
    "    plt.plot(t,X)\n",
    "    plt.show()\n",
    "\n",
    "def main():\n",
    "    n_iterations = 1000\n",
    "    hmc = HMC(n_iterations,target, target_log, 5)\n",
    "    hmc.run_hmc()\n",
    "    print(hmc.X[-1])\n",
    "    plotting_funciton(hmc.X)\n",
    "    \n",
    "main()"
   ]
  },
  {
   "cell_type": "markdown",
   "metadata": {},
   "source": [
    "* well from the graph you can see that the step size and other things are probably off i guess that is the whole point of the no u turn sampler\n",
    "* atleast it is working though, although i am kind of reliant on knowing the probability distribution how would i go about approximating this if i didn't know the pdf, also how would you even get the gradient if that was the case\n",
    "* need to look at a more complex example or an actual decent toy problem\n",
    "* I guess if it was model parameters P(X|Y) we could use bayes rule with the observations Y. \n",
    "* there are probably some reasonable explanation / example problems online for this"
   ]
  }
 ],
 "metadata": {
  "kernelspec": {
   "display_name": ".venv",
   "language": "python",
   "name": "python3"
  },
  "language_info": {
   "codemirror_mode": {
    "name": "ipython",
    "version": 3
   },
   "file_extension": ".py",
   "mimetype": "text/x-python",
   "name": "python",
   "nbconvert_exporter": "python",
   "pygments_lexer": "ipython3",
   "version": "3.12.3"
  }
 },
 "nbformat": 4,
 "nbformat_minor": 2
}
