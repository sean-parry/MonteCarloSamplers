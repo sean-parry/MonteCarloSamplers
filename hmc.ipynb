{
 "cells": [
  {
   "cell_type": "markdown",
   "metadata": {},
   "source": [
    "# HMC\n",
    "\n",
    "this looks useful https://bjlkeng.io/posts/hamiltonian-monte-carlo/\n",
    "\n",
    "https://faculty.washington.edu/yenchic/19A_stat535/Lec9_HMC.pdf\n",
    "\n",
    "https://gregorygundersen.com/blog/2020/07/05/hmc/\n"
   ]
  },
  {
   "cell_type": "markdown",
   "metadata": {},
   "source": [
    "![images](images/hmc1Avarsi.jpg)\n",
    "![images](images/hmc2Avarsi.jpg)"
   ]
  },
  {
   "cell_type": "code",
   "execution_count": 1,
   "metadata": {},
   "outputs": [],
   "source": [
    "%%capture\n",
    "%pip install numpy\n",
    "%pip install matplotlib"
   ]
  },
  {
   "cell_type": "markdown",
   "metadata": {},
   "source": [
    "integration time - decided by type of sampler:\n",
    "* nuts dynamically determines integration time\n",
    "* hmc satatically determines integration time"
   ]
  },
  {
   "cell_type": "code",
   "execution_count": 8,
   "metadata": {},
   "outputs": [],
   "source": [
    "# using 1 dimension\n",
    "import numpy as np\n",
    "import matplotlib.pyplot as plt\n",
    "\n",
    "def normal_dist(x,mu,s_d):\n",
    "    return 1/(s_d*(2*np.pi)**0.5)*np.exp((-(x-mu)**2)/(2*s_d**2))\n",
    "\n",
    "#just putting the target function as a normal with a set mean and \n",
    "# standard deviation\n",
    "def target_function_p(x,mu=1,s_d=1):\n",
    "    return normal_dist(x,mu,s_d)\n",
    "\n",
    "\n",
    "def iter_theta(th, time_step, m_inverse, r):\n",
    "    return th+time_step*(m_inverse**-1)*r\n",
    "\n",
    "def iter_r(r, time_step,):\n",
    "    return\n",
    "\n",
    "class HMC:\n",
    "    def __init__(self, theta_initial, step_size):\n",
    "        self.theta = [theta_initial]\n",
    "        self.step_size = step_size\n",
    "\n",
    "        # heperparam i could take as an input just oging ot hard\n",
    "        # code this though\n",
    "        self.M = 1\n",
    "        return\n",
    "    \n",
    "    def leapfrog(self):\n",
    "        th_hat, r_hat = 1,1\n",
    "        return th_hat, r_hat\n",
    "    \n",
    "    def grad_U(self, th):\n",
    "\n",
    "        return 1\n",
    "    \n",
    "    def hmc_iter(self):\n",
    "        th = self.theta[-1]\n",
    "        r = [np.random.randn(0,self.M)]\n",
    "        r[0] = r[0] - (self.step_size/2)*self.grad_U(th)\n",
    "\n",
    "        return\n",
    "\n",
    "\n",
    "\n",
    "\n",
    "def main():\n",
    "    HamMC = HMC(0,0.1)\n",
    "\n",
    "main()"
   ]
  }
 ],
 "metadata": {
  "kernelspec": {
   "display_name": ".venv",
   "language": "python",
   "name": "python3"
  },
  "language_info": {
   "codemirror_mode": {
    "name": "ipython",
    "version": 3
   },
   "file_extension": ".py",
   "mimetype": "text/x-python",
   "name": "python",
   "nbconvert_exporter": "python",
   "pygments_lexer": "ipython3",
   "version": "3.12.0"
  }
 },
 "nbformat": 4,
 "nbformat_minor": 2
}
